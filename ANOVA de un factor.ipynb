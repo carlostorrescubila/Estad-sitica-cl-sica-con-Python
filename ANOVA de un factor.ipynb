{
 "cells": [
  {
   "cell_type": "markdown",
   "metadata": {},
   "source": [
    "# ANOVA de un factor"
   ]
  },
  {
   "cell_type": "code",
   "execution_count": 1,
   "metadata": {},
   "outputs": [],
   "source": [
    "import numpy as np\n",
    "import pandas as pd\n",
    "import matplotlib.pyplot as plt\n",
    "import seaborn as sns\n",
    "import scipy.stats as stats"
   ]
  },
  {
   "cell_type": "markdown",
   "metadata": {},
   "source": [
    "## 1. Cargar base de datos\n",
    "### *Lista con los nombres de las variables del dataframe"
   ]
  },
  {
   "cell_type": "code",
   "execution_count": 2,
   "metadata": {},
   "outputs": [],
   "source": [
    "from sklearn.datasets import load_iris\n",
    "\n",
    "iris_names = load_iris()\n",
    "names = iris_names['feature_names']\n",
    "names.append('class')"
   ]
  },
  {
   "cell_type": "markdown",
   "metadata": {},
   "source": [
    "### *Construcción del dataframe"
   ]
  },
  {
   "cell_type": "code",
   "execution_count": 3,
   "metadata": {},
   "outputs": [
    {
     "data": {
      "text/html": [
       "<div>\n",
       "<style scoped>\n",
       "    .dataframe tbody tr th:only-of-type {\n",
       "        vertical-align: middle;\n",
       "    }\n",
       "\n",
       "    .dataframe tbody tr th {\n",
       "        vertical-align: top;\n",
       "    }\n",
       "\n",
       "    .dataframe thead th {\n",
       "        text-align: right;\n",
       "    }\n",
       "</style>\n",
       "<table border=\"1\" class=\"dataframe\">\n",
       "  <thead>\n",
       "    <tr style=\"text-align: right;\">\n",
       "      <th></th>\n",
       "      <th>sepal length (cm)</th>\n",
       "      <th>sepal width (cm)</th>\n",
       "      <th>petal length (cm)</th>\n",
       "      <th>petal width (cm)</th>\n",
       "      <th>class</th>\n",
       "    </tr>\n",
       "  </thead>\n",
       "  <tbody>\n",
       "    <tr>\n",
       "      <th>0</th>\n",
       "      <td>5.1</td>\n",
       "      <td>3.5</td>\n",
       "      <td>1.4</td>\n",
       "      <td>0.2</td>\n",
       "      <td>Iris-Setosa</td>\n",
       "    </tr>\n",
       "    <tr>\n",
       "      <th>1</th>\n",
       "      <td>4.9</td>\n",
       "      <td>3.0</td>\n",
       "      <td>1.4</td>\n",
       "      <td>0.2</td>\n",
       "      <td>Iris-Setosa</td>\n",
       "    </tr>\n",
       "    <tr>\n",
       "      <th>2</th>\n",
       "      <td>4.7</td>\n",
       "      <td>3.2</td>\n",
       "      <td>1.3</td>\n",
       "      <td>0.2</td>\n",
       "      <td>Iris-Setosa</td>\n",
       "    </tr>\n",
       "    <tr>\n",
       "      <th>3</th>\n",
       "      <td>4.6</td>\n",
       "      <td>3.1</td>\n",
       "      <td>1.5</td>\n",
       "      <td>0.2</td>\n",
       "      <td>Iris-Setosa</td>\n",
       "    </tr>\n",
       "    <tr>\n",
       "      <th>4</th>\n",
       "      <td>5.0</td>\n",
       "      <td>3.6</td>\n",
       "      <td>1.4</td>\n",
       "      <td>0.2</td>\n",
       "      <td>Iris-Setosa</td>\n",
       "    </tr>\n",
       "  </tbody>\n",
       "</table>\n",
       "</div>"
      ],
      "text/plain": [
       "   sepal length (cm)  sepal width (cm)  petal length (cm)  petal width (cm)  \\\n",
       "0                5.1               3.5                1.4               0.2   \n",
       "1                4.9               3.0                1.4               0.2   \n",
       "2                4.7               3.2                1.3               0.2   \n",
       "3                4.6               3.1                1.5               0.2   \n",
       "4                5.0               3.6                1.4               0.2   \n",
       "\n",
       "         class  \n",
       "0  Iris-Setosa  \n",
       "1  Iris-Setosa  \n",
       "2  Iris-Setosa  \n",
       "3  Iris-Setosa  \n",
       "4  Iris-Setosa  "
      ]
     },
     "execution_count": 3,
     "metadata": {},
     "output_type": "execute_result"
    }
   ],
   "source": [
    "data, target = load_iris(return_X_y=True)\n",
    "data = pd.DataFrame(data)\n",
    "target = pd.DataFrame(target)\n",
    "iris = pd.concat([data, target], axis=1)\n",
    "iris.columns = names\n",
    "iris['class'].replace({0: 'Iris-Setosa', 1: 'Iris-Versicolour', 2: 'Iris-Virginica'}, inplace = True)\n",
    "iris.head()"
   ]
  },
  {
   "cell_type": "markdown",
   "metadata": {},
   "source": [
    "## 2. Test de normalidad\n",
    "### Hipótesis:\n",
    "$$\\begin{cases} { H }_{ 0 }: la \\quad variable \\quad procede \\quad de \\quad una \\quad distribucion \\quad normal \\\\ { H }_{ 1 }: la \\quad variable \\quad no \\quad procede \\quad de \\quad una \\quad distribucion \\quad normal\\end{cases}$$"
   ]
  },
  {
   "cell_type": "code",
   "execution_count": 4,
   "metadata": {},
   "outputs": [
    {
     "data": {
      "text/html": [
       "<style  type=\"text/css\" >\n",
       "    #T_19933ce2_7460_11e9_b95f_708bcd0f420frow0_col0 {\n",
       "            background-color :  lightgreen;\n",
       "        }    #T_19933ce2_7460_11e9_b95f_708bcd0f420frow0_col1 {\n",
       "            background-color :  lightgreen;\n",
       "        }    #T_19933ce2_7460_11e9_b95f_708bcd0f420frow0_col2 {\n",
       "            background-color :  salmon;\n",
       "        }    #T_19933ce2_7460_11e9_b95f_708bcd0f420frow0_col3 {\n",
       "            background-color :  salmon;\n",
       "        }</style>  \n",
       "<table id=\"T_19933ce2_7460_11e9_b95f_708bcd0f420f\" > \n",
       "<thead>    <tr> \n",
       "        <th class=\"blank level0\" ></th> \n",
       "        <th class=\"col_heading level0 col0\" >sepal length (cm)</th> \n",
       "        <th class=\"col_heading level0 col1\" >sepal width (cm)</th> \n",
       "        <th class=\"col_heading level0 col2\" >petal length (cm)</th> \n",
       "        <th class=\"col_heading level0 col3\" >petal width (cm)</th> \n",
       "    </tr></thead> \n",
       "<tbody>    <tr> \n",
       "        <th id=\"T_19933ce2_7460_11e9_b95f_708bcd0f420flevel0_row0\" class=\"row_heading level0 row0\" >0</th> \n",
       "        <td id=\"T_19933ce2_7460_11e9_b95f_708bcd0f420frow0_col0\" class=\"data row0 col0\" >0.0568242</td> \n",
       "        <td id=\"T_19933ce2_7460_11e9_b95f_708bcd0f420frow0_col1\" class=\"data row0 col1\" >0.167241</td> \n",
       "        <td id=\"T_19933ce2_7460_11e9_b95f_708bcd0f420frow0_col2\" class=\"data row0 col2\" >8.67787e-49</td> \n",
       "        <td id=\"T_19933ce2_7460_11e9_b95f_708bcd0f420frow0_col3\" class=\"data row0 col3\" >1.99181e-30</td> \n",
       "    </tr></tbody> \n",
       "</table> "
      ],
      "text/plain": [
       "<pandas.io.formats.style.Styler at 0x24edc181978>"
      ]
     },
     "execution_count": 4,
     "metadata": {},
     "output_type": "execute_result"
    }
   ],
   "source": [
    "p_values = pd.DataFrame(stats.normaltest(iris.iloc[:, :-1]).pvalue ,index = names[:-1]).T\n",
    "p_values.style.applymap(lambda x: 'background-color : lightgreen' if x>=0.05 else 'background-color : salmon')"
   ]
  },
  {
   "cell_type": "markdown",
   "metadata": {},
   "source": [
    "En verde los valores estadísticamente no significativos ($p-valor \\ge 0.05$) y en rojo los valores estadísticamente significativos ($p-valor<0.05$)"
   ]
  },
  {
   "cell_type": "markdown",
   "metadata": {},
   "source": [
    "## 3. ANOVA de un factor\n",
    "Es una técnica paramétrica en la que se intenta comparar las medias de tres o más grupos. Al ser una técnica paramétrica es necesario que se cumplan ciertos supuestos para que el p-valor asociado sea válido:\n",
    " 1. Independencia. Las muestras deben ser independientes.\n",
    " 2. Normalidad. Cada muestra debe provenir de una población normalmente distribuida.\n",
    " 3. Homocedasticidad. Las desviaciones estándar de los grupos deben ser iguales."
   ]
  },
  {
   "cell_type": "markdown",
   "metadata": {},
   "source": [
    "### 3.1 Revisión de supuestos estadísticos"
   ]
  },
  {
   "cell_type": "markdown",
   "metadata": {},
   "source": [
    "##### Independencia\n",
    "Se conoce de antemano que las muestras recogidas en los tres grupos son independientes. "
   ]
  },
  {
   "cell_type": "markdown",
   "metadata": {},
   "source": [
    "##### Normalidad"
   ]
  },
  {
   "cell_type": "code",
   "execution_count": 5,
   "metadata": {},
   "outputs": [
    {
     "name": "stdout",
     "output_type": "stream",
     "text": [
      "Setosa: 0.388916654112468\n",
      "Versicolour: 0.48409071097159273\n",
      "Virginica: 0.2770869880114645\n"
     ]
    }
   ],
   "source": [
    "print ('Setosa: ' + str(stats.normaltest(iris['sepal width (cm)'][iris['class'] == 'Iris-Setosa']).pvalue))\n",
    "print ('Versicolour: ' + str(stats.normaltest(iris['sepal width (cm)'][iris['class'] == 'Iris-Versicolour']).pvalue))\n",
    "print ('Virginica: ' + str(stats.normaltest(iris['sepal width (cm)'][iris['class'] == 'Iris-Virginica']).pvalue))"
   ]
  },
  {
   "cell_type": "markdown",
   "metadata": {},
   "source": [
    "Para cada grupo se acepta la hipótesis nula de que la distribución es normal"
   ]
  },
  {
   "cell_type": "markdown",
   "metadata": {},
   "source": [
    "##### Homocedasticidad\n",
    "Para demostrar la homocedasticidad se realiza el test de Levene el cual contrasta las siguientes hipótesis\n",
    "$$\\begin{cases} { H }_{ 0 }: Varianzas \\quad iguales \\\\ { H }_{ 1 }: Varianzas \\quad distintas \\end{cases}$$"
   ]
  },
  {
   "cell_type": "code",
   "execution_count": 6,
   "metadata": {},
   "outputs": [
    {
     "data": {
      "text/plain": [
       "0.5248269975064537"
      ]
     },
     "execution_count": 6,
     "metadata": {},
     "output_type": "execute_result"
    }
   ],
   "source": [
    "stats.levene(iris['sepal width (cm)'][iris['class'] == 'Iris-Setosa'], \n",
    "              iris['sepal width (cm)'][iris['class'] == 'Iris-Versicolour'],\n",
    "              iris['sepal width (cm)'][iris['class'] == 'Iris-Virginica']).pvalue"
   ]
  },
  {
   "cell_type": "markdown",
   "metadata": {},
   "source": [
    "No hay evidencia para rechazar la hipótesis nula, por lo tanto, las varianzas de los grupos de consideran iguales."
   ]
  },
  {
   "cell_type": "markdown",
   "metadata": {},
   "source": [
    "#### Como se cumplen los tres supuestos, es posible realizar un ANOVA para detectar si existe diferencia entre los tipos de flores."
   ]
  },
  {
   "cell_type": "markdown",
   "metadata": {},
   "source": [
    "### 3.2 Aplicar Test ANOVA\n",
    "#### Hipótesis:\n",
    "$$\\begin{cases} { H }_{ 0 }: { \\mu  }_{ i }={ \\mu  }_{ j } \\\\ { H }_{ 1 }: { \\mu  }_{ i }\\neq { \\mu  }_{ j } \\end{cases} \\forall i\\neq j$$\n",
    "\n",
    "Se realiza la ANOVA para encontrar diferencia en el ancho del sépalo (\"sepal width (cm)\") entre las tres clases de flores"
   ]
  },
  {
   "cell_type": "code",
   "execution_count": 7,
   "metadata": {},
   "outputs": [
    {
     "name": "stdout",
     "output_type": "stream",
     "text": [
      "Estadístico de contraste: 47.36446140299382\n",
      "P-valor: 1.3279165184572242e-16\n"
     ]
    }
   ],
   "source": [
    "ANOVA_statistic, Pvalue = stats.f_oneway(iris['sepal width (cm)'][iris['class'] == 'Iris-Setosa'], \n",
    "                                         iris['sepal width (cm)'][iris['class'] == 'Iris-Versicolour'],\n",
    "                                         iris['sepal width (cm)'][iris['class'] == 'Iris-Virginica'])\n",
    "\n",
    "print('Estadístico de contraste: ' + str(ANOVA_statistic))\n",
    "print('P-valor: ' + str(Pvalue))"
   ]
  },
  {
   "cell_type": "markdown",
   "metadata": {},
   "source": [
    "#### Se rechaza la hipótesis nula, por lo tanto, al menos una de las medias de los grupos es distinta"
   ]
  },
  {
   "cell_type": "code",
   "execution_count": 54,
   "metadata": {},
   "outputs": [
    {
     "data": {
      "text/plain": [
       "<matplotlib.axes._subplots.AxesSubplot at 0x24edf3ea048>"
      ]
     },
     "execution_count": 54,
     "metadata": {},
     "output_type": "execute_result"
    },
    {
     "data": {
      "image/png": "[encoded data removed]",
      "text/plain": [
       "<Figure size 500x500 with 1 Axes>"
      ]
     },
     "metadata": {},
     "output_type": "display_data"
    }
   ],
   "source": [
    "plt.figure(figsize=(5,5))\n",
    "plt.style.use('seaborn')\n",
    "sns.boxplot(x=\"class\", y=\"sepal width (cm)\", data=iris)"
   ]
  },
  {
   "cell_type": "markdown",
   "metadata": {},
   "source": [
    "### 3.3 Pruebas PostHoc"
   ]
  },
  {
   "cell_type": "code",
   "execution_count": 55,
   "metadata": {},
   "outputs": [
    {
     "data": {
      "text/html": [
       "<table class=\"simpletable\">\n",
       "<caption>Multiple Comparison of Means - Tukey HSD,FWER=0.05</caption>\n",
       "<tr>\n",
       "       <th>group1</th>           <th>group2</th>      <th>meandiff</th>  <th>lower</th>   <th>upper</th>  <th>reject</th>\n",
       "</tr>\n",
       "<tr>\n",
       "     <td>Iris-Setosa</td>   <td>Iris-Versicolour</td>  <td>-0.648</td>  <td>-0.8092</td> <td>-0.4868</td>  <td>True</td> \n",
       "</tr>\n",
       "<tr>\n",
       "     <td>Iris-Setosa</td>    <td>Iris-Virginica</td>   <td>-0.444</td>  <td>-0.6052</td> <td>-0.2828</td>  <td>True</td> \n",
       "</tr>\n",
       "<tr>\n",
       "  <td>Iris-Versicolour</td>  <td>Iris-Virginica</td>    <td>0.204</td>  <td>0.0428</td>  <td>0.3652</td>   <td>True</td> \n",
       "</tr>\n",
       "</table>"
      ],
      "text/plain": [
       "<class 'statsmodels.iolib.table.SimpleTable'>"
      ]
     },
     "execution_count": 55,
     "metadata": {},
     "output_type": "execute_result"
    }
   ],
   "source": [
    "from statsmodels.stats.multicomp import MultiComparison\n",
    "\n",
    "model = MultiComparison(iris['sepal width (cm)'], iris['class'])\n",
    "results = model.tukeyhsd()\n",
    "results.summary()"
   ]
  },
  {
   "cell_type": "markdown",
   "metadata": {},
   "source": [
    "#### Se observa que los tres grupos tienen una media distinta."
   ]
  },
  {
   "cell_type": "markdown",
   "metadata": {},
   "source": [
    "Otra manera de observar las comparaciones multiples es mediante el intervalo de confianza para la media de cada grupo. El gráfico para los intervalos de confianza de cada grupo se obtiene al ejecutar el código: *results.plot_simultaneous()*. \n",
    "\n",
    "A continuación se proporciona una serie de funciones que calculan el intervalo de confianza para la media de cada grupo considerado y posteriormente realiza un gráfico ilustrativo. "
   ]
  },
  {
   "cell_type": "code",
   "execution_count": 10,
   "metadata": {},
   "outputs": [
    {
     "data": {
      "text/html": [
       "<div>\n",
       "<style scoped>\n",
       "    .dataframe tbody tr th:only-of-type {\n",
       "        vertical-align: middle;\n",
       "    }\n",
       "\n",
       "    .dataframe tbody tr th {\n",
       "        vertical-align: top;\n",
       "    }\n",
       "\n",
       "    .dataframe thead th {\n",
       "        text-align: right;\n",
       "    }\n",
       "</style>\n",
       "<table border=\"1\" class=\"dataframe\">\n",
       "  <thead>\n",
       "    <tr style=\"text-align: right;\">\n",
       "      <th></th>\n",
       "      <th>LI</th>\n",
       "      <th>Mean</th>\n",
       "      <th>LS</th>\n",
       "    </tr>\n",
       "  </thead>\n",
       "  <tbody>\n",
       "    <tr>\n",
       "      <th>Iris-Setosa</th>\n",
       "      <td>3.3097</td>\n",
       "      <td>3.418</td>\n",
       "      <td>3.5263</td>\n",
       "    </tr>\n",
       "    <tr>\n",
       "      <th>Iris-Versicolour</th>\n",
       "      <td>2.6808</td>\n",
       "      <td>2.77</td>\n",
       "      <td>2.8592</td>\n",
       "    </tr>\n",
       "    <tr>\n",
       "      <th>Iris-Virginica</th>\n",
       "      <td>2.8823</td>\n",
       "      <td>2.974</td>\n",
       "      <td>3.0657</td>\n",
       "    </tr>\n",
       "  </tbody>\n",
       "</table>\n",
       "</div>"
      ],
      "text/plain": [
       "                      LI   Mean      LS\n",
       "Iris-Setosa       3.3097  3.418  3.5263\n",
       "Iris-Versicolour  2.6808   2.77  2.8592\n",
       "Iris-Virginica    2.8823  2.974  3.0657"
      ]
     },
     "execution_count": 10,
     "metadata": {},
     "output_type": "execute_result"
    }
   ],
   "source": [
    "def IC_mean(X, group, data, confidence=0.95, decimals=4):\n",
    "    \n",
    "    i = 0\n",
    "    categories = data[group].unique()\n",
    "    ICs = pd.DataFrame(index = categories, columns = ['LI', 'Mean', 'LS'])\n",
    "    categories_len = len(data[group].unique())\n",
    "    for category in data[group].unique():\n",
    "        data_cat = data[X][data[group] == category]\n",
    "        n = len(data_cat)\n",
    "        m, se = round(data_cat.mean(), decimals), data_cat.sem()\n",
    "        h = se * stats.t._ppf((1+confidence)/2., n-1)\n",
    "        IC1 = round(m-h,decimals)\n",
    "        IC2 = round(m+h,decimals)\n",
    "        ICs.iloc[i, 0] = IC1\n",
    "        ICs.iloc[i, 1] = m\n",
    "        ICs.iloc[i, 2] = IC2\n",
    "        i =i+1\n",
    "        \n",
    "    return(ICs)\n",
    "\n",
    "ic_media = IC_mean('sepal width (cm)', 'class', iris)\n",
    "ic_media"
   ]
  },
  {
   "cell_type": "code",
   "execution_count": 44,
   "metadata": {},
   "outputs": [],
   "source": [
    "def IC_plot(X, parameter = True):\n",
    "    xmin = min(X.iloc[:,0])\n",
    "    xmax = max(X.iloc[:,1])\n",
    "    \n",
    "    lista = []\n",
    "    i=0\n",
    "    colors = ['C0','C1','C2','C3','C4','C5','C6','C7','C8','C9']\n",
    "    for random in enumerate(X.index):\n",
    "        final = X.iloc[i,2] - X.iloc[i,0]\n",
    "        plt.scatter(X.iloc[i,0], i+1, marker='|', s=500, c=colors[i])\n",
    "        if parameter == True:\n",
    "            plt.scatter(X.iloc[i,1], i+1, marker='x', s=50, c=colors[i])\n",
    "        plt.scatter(X.iloc[i,2], i+1, marker='|', s=500, c=colors[i])\n",
    "        plt.arrow(X.iloc[i,0], i+1, final, 0, width = 0.005, head_width = 0,\n",
    "                  head_length = 0, color = colors[i], zorder = 3, label = X.index[i])   \n",
    "        lista = np.concatenate((lista, i+1), axis=None)\n",
    "        i=i+1\n",
    "    \n",
    "    \n",
    "    plt.gca().axes.get_yaxis().set_ticklabels([X.index])\n",
    "    plt.yticks(lista, (X.index).tolist(), fontsize = 13)\n",
    "    plt.ylim(0.5, max(lista)+0.5)"
   ]
  },
  {
   "cell_type": "code",
   "execution_count": 49,
   "metadata": {},
   "outputs": [
    {
     "data": {
      "image/png": "[encoded data removed]",
      "text/plain": [
       "<Figure size 800x500 with 1 Axes>"
      ]
     },
     "metadata": {},
     "output_type": "display_data"
    }
   ],
   "source": [
    "plt.figure(figsize=(8,5))\n",
    "plt.style.use('bmh')\n",
    "IC_plot(ic_media)"
   ]
  },
  {
   "cell_type": "markdown",
   "metadata": {},
   "source": [
    "#### Ningún intervalo se intersecta, por lo tanto, los tres grupos tienen medias distintas\n",
    "Iris-Setosa tiene la media del ancho del sépalo más alta, mientas que Iris-Versicolor tiene la media más baja"
   ]
  }
 ],
 "metadata": {
  "kernelspec": {
   "display_name": "Python 3",
   "language": "python",
   "name": "python3"
  },
  "language_info": {
   "codemirror_mode": {
    "name": "ipython",
    "version": 3
   },
   "file_extension": ".py",
   "mimetype": "text/x-python",
   "name": "python",
   "nbconvert_exporter": "python",
   "pygments_lexer": "ipython3",
   "version": "3.7.0"
  }
 },
 "nbformat": 4,
 "nbformat_minor": 2
}
