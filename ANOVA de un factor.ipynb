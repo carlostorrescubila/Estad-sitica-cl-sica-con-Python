{
 "cells": [
  {
   "cell_type": "markdown",
   "metadata": {},
   "source": [
    "# ANOVA de un factor"
   ]
  },
  {
   "cell_type": "markdown",
   "metadata": {},
   "source": [
    "## 1. Cargar base de datos\n",
    "### *Lista con los nombres de las variables del dataframe"
   ]
  },
  {
   "cell_type": "code",
   "execution_count": 1,
   "metadata": {},
   "outputs": [],
   "source": [
    "import pandas as pd\n",
    "from sklearn.datasets import load_iris\n",
    "\n",
    "iris_names = load_iris()\n",
    "names = iris_names['feature_names']\n",
    "names.append('class')"
   ]
  },
  {
   "cell_type": "markdown",
   "metadata": {},
   "source": [
    "### *Construcción del dataframe"
   ]
  },
  {
   "cell_type": "code",
   "execution_count": 2,
   "metadata": {},
   "outputs": [
    {
     "data": {
      "text/html": [
       "<div>\n",
       "<style scoped>\n",
       "    .dataframe tbody tr th:only-of-type {\n",
       "        vertical-align: middle;\n",
       "    }\n",
       "\n",
       "    .dataframe tbody tr th {\n",
       "        vertical-align: top;\n",
       "    }\n",
       "\n",
       "    .dataframe thead th {\n",
       "        text-align: right;\n",
       "    }\n",
       "</style>\n",
       "<table border=\"1\" class=\"dataframe\">\n",
       "  <thead>\n",
       "    <tr style=\"text-align: right;\">\n",
       "      <th></th>\n",
       "      <th>sepal length (cm)</th>\n",
       "      <th>sepal width (cm)</th>\n",
       "      <th>petal length (cm)</th>\n",
       "      <th>petal width (cm)</th>\n",
       "      <th>class</th>\n",
       "    </tr>\n",
       "  </thead>\n",
       "  <tbody>\n",
       "    <tr>\n",
       "      <th>0</th>\n",
       "      <td>5.1</td>\n",
       "      <td>3.5</td>\n",
       "      <td>1.4</td>\n",
       "      <td>0.2</td>\n",
       "      <td>Iris-Setosa</td>\n",
       "    </tr>\n",
       "    <tr>\n",
       "      <th>1</th>\n",
       "      <td>4.9</td>\n",
       "      <td>3.0</td>\n",
       "      <td>1.4</td>\n",
       "      <td>0.2</td>\n",
       "      <td>Iris-Setosa</td>\n",
       "    </tr>\n",
       "    <tr>\n",
       "      <th>2</th>\n",
       "      <td>4.7</td>\n",
       "      <td>3.2</td>\n",
       "      <td>1.3</td>\n",
       "      <td>0.2</td>\n",
       "      <td>Iris-Setosa</td>\n",
       "    </tr>\n",
       "    <tr>\n",
       "      <th>3</th>\n",
       "      <td>4.6</td>\n",
       "      <td>3.1</td>\n",
       "      <td>1.5</td>\n",
       "      <td>0.2</td>\n",
       "      <td>Iris-Setosa</td>\n",
       "    </tr>\n",
       "    <tr>\n",
       "      <th>4</th>\n",
       "      <td>5.0</td>\n",
       "      <td>3.6</td>\n",
       "      <td>1.4</td>\n",
       "      <td>0.2</td>\n",
       "      <td>Iris-Setosa</td>\n",
       "    </tr>\n",
       "  </tbody>\n",
       "</table>\n",
       "</div>"
      ],
      "text/plain": [
       "   sepal length (cm)  sepal width (cm)  petal length (cm)  petal width (cm)  \\\n",
       "0                5.1               3.5                1.4               0.2   \n",
       "1                4.9               3.0                1.4               0.2   \n",
       "2                4.7               3.2                1.3               0.2   \n",
       "3                4.6               3.1                1.5               0.2   \n",
       "4                5.0               3.6                1.4               0.2   \n",
       "\n",
       "         class  \n",
       "0  Iris-Setosa  \n",
       "1  Iris-Setosa  \n",
       "2  Iris-Setosa  \n",
       "3  Iris-Setosa  \n",
       "4  Iris-Setosa  "
      ]
     },
     "execution_count": 2,
     "metadata": {},
     "output_type": "execute_result"
    }
   ],
   "source": [
    "data, target = load_iris(return_X_y=True)\n",
    "data = pd.DataFrame(data)\n",
    "target = pd.DataFrame(target)\n",
    "iris = pd.concat([data, target], axis=1)\n",
    "iris.columns = names\n",
    "iris['class'].replace({0: 'Iris-Setosa', 1: 'Iris-Versicolour', 2: 'Iris-Virginica'}, inplace = True)\n",
    "iris.head()"
   ]
  },
  {
   "cell_type": "markdown",
   "metadata": {},
   "source": [
    "## 2. Test de normalidad"
   ]
  },
  {
   "cell_type": "markdown",
   "metadata": {},
   "source": [
    "### Hipótesis:\n",
    "$$\\begin{cases} { H }_{ 0 }: la \\quad variable \\quad procede \\quad de \\quad una \\quad distribución \\quad normal \\\\ { H }_{ 1 }: la \\quad variable \\quad no \\quad procede \\quad de \\quad una \\quad distribución \\quad normal\\end{cases}$$"
   ]
  },
  {
   "cell_type": "code",
   "execution_count": 3,
   "metadata": {},
   "outputs": [
    {
     "data": {
      "text/html": [
       "<style  type=\"text/css\" >\n",
       "    #T_5b941b48_46b1_11e9_ab29_a402b9473dd9row0_col0 {\n",
       "            background-color :  lightgreen;\n",
       "        }    #T_5b941b48_46b1_11e9_ab29_a402b9473dd9row0_col1 {\n",
       "            background-color :  lightgreen;\n",
       "        }    #T_5b941b48_46b1_11e9_ab29_a402b9473dd9row0_col2 {\n",
       "            background-color :  salmon;\n",
       "        }    #T_5b941b48_46b1_11e9_ab29_a402b9473dd9row0_col3 {\n",
       "            background-color :  salmon;\n",
       "        }</style>  \n",
       "<table id=\"T_5b941b48_46b1_11e9_ab29_a402b9473dd9\" > \n",
       "<thead>    <tr> \n",
       "        <th class=\"blank level0\" ></th> \n",
       "        <th class=\"col_heading level0 col0\" >sepal length (cm)</th> \n",
       "        <th class=\"col_heading level0 col1\" >sepal width (cm)</th> \n",
       "        <th class=\"col_heading level0 col2\" >petal length (cm)</th> \n",
       "        <th class=\"col_heading level0 col3\" >petal width (cm)</th> \n",
       "    </tr></thead> \n",
       "<tbody>    <tr> \n",
       "        <th id=\"T_5b941b48_46b1_11e9_ab29_a402b9473dd9level0_row0\" class=\"row_heading level0 row0\" >0</th> \n",
       "        <td id=\"T_5b941b48_46b1_11e9_ab29_a402b9473dd9row0_col0\" class=\"data row0 col0\" >0.0568242</td> \n",
       "        <td id=\"T_5b941b48_46b1_11e9_ab29_a402b9473dd9row0_col1\" class=\"data row0 col1\" >0.167241</td> \n",
       "        <td id=\"T_5b941b48_46b1_11e9_ab29_a402b9473dd9row0_col2\" class=\"data row0 col2\" >8.67787e-49</td> \n",
       "        <td id=\"T_5b941b48_46b1_11e9_ab29_a402b9473dd9row0_col3\" class=\"data row0 col3\" >1.99181e-30</td> \n",
       "    </tr></tbody> \n",
       "</table> "
      ],
      "text/plain": [
       "<pandas.io.formats.style.Styler at 0x267a854af28>"
      ]
     },
     "execution_count": 3,
     "metadata": {},
     "output_type": "execute_result"
    }
   ],
   "source": [
    "from scipy import stats\n",
    "p_values = pd.DataFrame(stats.normaltest(iris.iloc[:, :-1]).pvalue ,index = names[:-1]).T\n",
    "p_values.style.applymap(lambda x: 'background-color : lightgreen' if x>=0.05 else 'background-color : salmon')"
   ]
  },
  {
   "cell_type": "markdown",
   "metadata": {},
   "source": [
    "En verde los valores estadísticamente no significativos ($p-valor \\ge 0.05$) y en rojo los valores estadísticamente significativos ($p-valor<0.05$)"
   ]
  },
  {
   "cell_type": "markdown",
   "metadata": {},
   "source": [
    "## 3. ANOVA de un factor\n",
    "Es una técnica paramétrica en la que se intenta comparar las medias de tres o más grupos. Al ser una técnica paramétrica es necesario que se cumplan ciertos supuestos para que el p-valor asociado sea válido:\n",
    " 1. Independencia. Las muestras deben ser independientes.\n",
    " 2. Normalidad. Cada muestra debe provenir de una población normalmente distribuida.\n",
    " 3. Homocedasticidad. Las desviaciones estándar de los grupos deben ser iguales."
   ]
  },
  {
   "cell_type": "markdown",
   "metadata": {},
   "source": [
    "### 3.1 Revisión de supuestos estadísticos"
   ]
  },
  {
   "cell_type": "markdown",
   "metadata": {},
   "source": [
    "##### Independencia\n",
    "Se conoce de antemano que las muestras recogidas en los tres grupos son independientes. "
   ]
  },
  {
   "cell_type": "markdown",
   "metadata": {},
   "source": [
    "##### Normalidad"
   ]
  },
  {
   "cell_type": "code",
   "execution_count": 4,
   "metadata": {},
   "outputs": [
    {
     "name": "stdout",
     "output_type": "stream",
     "text": [
      "Setosa: 0.388916654112468\n",
      "Versicolour: 0.48409071097159273\n",
      "Virginica: 0.2770869880114645\n"
     ]
    }
   ],
   "source": [
    "print ('Setosa: ' + str(stats.normaltest(iris['sepal width (cm)'][iris['class'] == 'Iris-Setosa']).pvalue))\n",
    "print ('Versicolour: ' + str(stats.normaltest(iris['sepal width (cm)'][iris['class'] == 'Iris-Versicolour']).pvalue))\n",
    "print ('Virginica: ' + str(stats.normaltest(iris['sepal width (cm)'][iris['class'] == 'Iris-Virginica']).pvalue))"
   ]
  },
  {
   "cell_type": "markdown",
   "metadata": {},
   "source": [
    "Para cada grupo se acepta la hipótesis nula de que la distribución es normal"
   ]
  },
  {
   "cell_type": "markdown",
   "metadata": {},
   "source": [
    "##### Homocedasticidad\n",
    "Para demostrar la homocedasticidad se calculan los intervalos de confianza para las varianzas poblacionales de cada grupo. Si los intervalos se intersectan se considera que las varianzas son iguales. <br>\n",
    "El intervalo de confianza para $\\sigma^2$ (si se desconoce $\\mu$) se calcula mediante la siguiente expresión:\n",
    "$$IC=\\left[ \\frac { (n-1){ S }^{ 2 } }{ { x }_{ n-1,1-\\alpha /2 }^{ 2 } } ,\\frac { (n-1){ S }^{ 2 } }{ { x }_{ n-1,\\alpha /2 }^{ 2 } }  \\right] $$"
   ]
  },
  {
   "cell_type": "code",
   "execution_count": 5,
   "metadata": {},
   "outputs": [],
   "source": [
    "import numpy as np\n",
    "from scipy import stats\n",
    "\n",
    "def IC_var(data, confidence=0.95):\n",
    "    n = len(data)\n",
    "    var = round(data.var(), 4)\n",
    "    chi1, chi2 = stats.chi2.ppf((1-confidence)/2, n-1), stats.chi2.ppf(((1+confidence)/2), n-1)\n",
    "    IC1 = round((n-1)*var/chi2, 4)\n",
    "    IC2 = round((n-1)*var/chi1, 4)\n",
    "    \n",
    "    return  IC1, IC2"
   ]
  },
  {
   "cell_type": "code",
   "execution_count": 6,
   "metadata": {},
   "outputs": [
    {
     "name": "stdout",
     "output_type": "stream",
     "text": [
      "class_0: (0.1013, 0.2255)\n",
      "class_1: (0.0687, 0.153)\n",
      "class_2: (0.0726, 0.1615)\n"
     ]
    }
   ],
   "source": [
    "print('class_0: ' + str(IC_var(iris['sepal width (cm)'][iris['class'] == 'Iris-Setosa'])) ) \n",
    "print('class_1: ' + str(IC_var(iris['sepal width (cm)'][iris['class'] == 'Iris-Versicolour'])) ) \n",
    "print('class_2: ' + str(IC_var(iris['sepal width (cm)'][iris['class'] == 'Iris-Virginica'])) ) "
   ]
  },
  {
   "cell_type": "code",
   "execution_count": 171,
   "metadata": {},
   "outputs": [
    {
     "data": {
      "text/html": [
       "<div>\n",
       "<style scoped>\n",
       "    .dataframe tbody tr th:only-of-type {\n",
       "        vertical-align: middle;\n",
       "    }\n",
       "\n",
       "    .dataframe tbody tr th {\n",
       "        vertical-align: top;\n",
       "    }\n",
       "\n",
       "    .dataframe thead th {\n",
       "        text-align: right;\n",
       "    }\n",
       "</style>\n",
       "<table border=\"1\" class=\"dataframe\">\n",
       "  <thead>\n",
       "    <tr style=\"text-align: right;\">\n",
       "      <th></th>\n",
       "      <th>LI</th>\n",
       "      <th>LS</th>\n",
       "      <th>class</th>\n",
       "    </tr>\n",
       "  </thead>\n",
       "  <tbody>\n",
       "    <tr>\n",
       "      <th>0</th>\n",
       "      <td>0.1013</td>\n",
       "      <td>0.2255</td>\n",
       "      <td>Iris-Setosa</td>\n",
       "    </tr>\n",
       "    <tr>\n",
       "      <th>1</th>\n",
       "      <td>0.0687</td>\n",
       "      <td>0.1530</td>\n",
       "      <td>Iris-Versicolour</td>\n",
       "    </tr>\n",
       "    <tr>\n",
       "      <th>2</th>\n",
       "      <td>0.0726</td>\n",
       "      <td>0.1615</td>\n",
       "      <td>Iris-Virginica</td>\n",
       "    </tr>\n",
       "  </tbody>\n",
       "</table>\n",
       "</div>"
      ],
      "text/plain": [
       "       LI      LS             class\n",
       "0  0.1013  0.2255       Iris-Setosa\n",
       "1  0.0687  0.1530  Iris-Versicolour\n",
       "2  0.0726  0.1615    Iris-Virginica"
      ]
     },
     "execution_count": 171,
     "metadata": {},
     "output_type": "execute_result"
    }
   ],
   "source": [
    "IC_var_setosa = IC_var(iris['sepal width (cm)'][iris['class'] == 'Iris-Setosa'])\n",
    "IC_var_versicolor = IC_var(iris['sepal width (cm)'][iris['class'] == 'Iris-Versicolour'])\n",
    "IC_var_virginica = IC_var(iris['sepal width (cm)'][iris['class'] == 'Iris-Virginica'])\n",
    "\n",
    "intervalos_var = pd.DataFrame([IC_var_setosa, IC_var_versicolor, IC_var_virginica])\n",
    "clase = pd.DataFrame(['Iris-Setosa', 'Iris-Versicolour', 'Iris-Virginica'])\n",
    "\n",
    "ic_var = pd.concat([intervalos_var, clase], axis=1)\n",
    "ic_var.columns = ['LI', 'LS', 'class']\n",
    "ic_var"
   ]
  },
  {
   "cell_type": "code",
   "execution_count": null,
   "metadata": {},
   "outputs": [],
   "source": [
    "import matplotlib.pyplot as plt\n",
    "\n",
    "def IC_plot(X):\n",
    "    xmin = min(X.iloc[:,0])\n",
    "    xmax = max(X.iloc[:,1])\n",
    "    \n",
    "    i=0\n",
    "    colors = ['C0','C1','C2','C3','C4','C5','C6','C7','C8','C9']\n",
    "    for random in enumerate(X.index):\n",
    "        plt.scatter(X.iloc[i,0], i+1, marker='|', s=500, c=colors[i])\n",
    "        plt.scatter(X.iloc[i,1], i+1, marker='|', s=500, c=colors[i])\n",
    "        i=i+1\n",
    "    \n",
    "    cur_axes = plt.gca()\n",
    "    cur_axes.axes.get_yaxis().set_ticklabels([])\n",
    "    cur_axes.axes.get_yaxis().set_ticks((X.index+1).tolist())\n",
    "    \n",
    "    plt.yticks((X.index+1).tolist(), X.iloc[:,2])\n",
    "    plt.ylim(0.5, max(X.index)+1.5)"
   ]
  },
  {
   "cell_type": "code",
   "execution_count": 172,
   "metadata": {},
   "outputs": [
    {
     "data": {
      "image/png": "[encoded data removed]",
      "text/plain": [
       "<Figure size 432x288 with 1 Axes>"
      ]
     },
     "metadata": {
      "needs_background": "light"
     },
     "output_type": "display_data"
    }
   ],
   "source": [
    "IC_plot(ic_var)"
   ]
  },
  {
   "cell_type": "markdown",
   "metadata": {},
   "source": [
    "Como los intervalos se intersectan se pueden considerar que las varianzas de los tres grupos son iguales"
   ]
  },
  {
   "cell_type": "markdown",
   "metadata": {},
   "source": [
    "### Como se cumplen los tres supuestos, es posible realizar un ANOVA para detectar si existe diferencia entre los tipos de flores."
   ]
  },
  {
   "cell_type": "markdown",
   "metadata": {},
   "source": [
    "#### Hipótesis:\n",
    "$$\\begin{cases} { H }_{ 0 }: { \\mu  }_{ i }={ \\mu  }_{ j } \\\\ { H }_{ 1 }: { \\mu  }_{ i }\\neq { \\mu  }_{ j } \\end{cases} \\forall i\\neq j$$\n",
    "\n",
    "Se realiza la ANOVA para encontrar diferencia en el ancho del sépalo (\"sepal width (cm)\") entre las tres clases de flores"
   ]
  },
  {
   "cell_type": "code",
   "execution_count": 7,
   "metadata": {},
   "outputs": [
    {
     "data": {
      "text/plain": [
       "1.3279165184572242e-16"
      ]
     },
     "execution_count": 7,
     "metadata": {},
     "output_type": "execute_result"
    }
   ],
   "source": [
    "stats.f_oneway(iris['sepal width (cm)'][iris['class'] == 'Iris-Setosa'], \n",
    "              iris['sepal width (cm)'][iris['class'] == 'Iris-Versicolour'],\n",
    "              iris['sepal width (cm)'][iris['class'] == 'Iris-Virginica']).pvalue"
   ]
  },
  {
   "cell_type": "markdown",
   "metadata": {},
   "source": [
    "Se rechaza la hipótesis nula, por lo tanto, al menos una de las medias de los grupos es distinta"
   ]
  },
  {
   "cell_type": "code",
   "execution_count": 8,
   "metadata": {},
   "outputs": [
    {
     "data": {
      "text/plain": [
       "<matplotlib.axes._subplots.AxesSubplot at 0x267ad4f3cc0>"
      ]
     },
     "execution_count": 8,
     "metadata": {},
     "output_type": "execute_result"
    },
    {
     "data": {
      "image/png": "[encoded data removed]",
      "text/plain": [
       "<Figure size 504x504 with 1 Axes>"
      ]
     },
     "metadata": {
      "needs_background": "light"
     },
     "output_type": "display_data"
    }
   ],
   "source": [
    "import matplotlib.pyplot as plt\n",
    "import seaborn as sns\n",
    "\n",
    "plt.figure(figsize=(7,7))\n",
    "sns.boxplot(x=\"class\", y=\"sepal width (cm)\", data=iris)"
   ]
  },
  {
   "cell_type": "code",
   "execution_count": 9,
   "metadata": {},
   "outputs": [],
   "source": [
    "import numpy as np\n",
    "from scipy import stats\n",
    "\n",
    "def IC_mean(data, confidence=0.95):\n",
    "    n = len(data)\n",
    "    m, se = data.mean(), data.sem()\n",
    "    h = se * stats.t._ppf((1+confidence)/2., n-1)\n",
    "    return round(m-h,4), round(m+h,4)"
   ]
  },
  {
   "cell_type": "code",
   "execution_count": 10,
   "metadata": {},
   "outputs": [
    {
     "name": "stdout",
     "output_type": "stream",
     "text": [
      "(3.3097, 3.5263)\n",
      "(2.6808, 2.8592)\n",
      "(2.8823, 3.0657)\n"
     ]
    }
   ],
   "source": [
    "print(IC_mean(iris['sepal width (cm)'][iris['class'] == 'Iris-Setosa']))\n",
    "print(IC_mean(iris['sepal width (cm)'][iris['class'] == 'Iris-Versicolour']))\n",
    "print(IC_mean(iris['sepal width (cm)'][iris['class'] == 'Iris-Virginica']))"
   ]
  },
  {
   "cell_type": "code",
   "execution_count": 151,
   "metadata": {},
   "outputs": [
    {
     "data": {
      "text/html": [
       "<div>\n",
       "<style scoped>\n",
       "    .dataframe tbody tr th:only-of-type {\n",
       "        vertical-align: middle;\n",
       "    }\n",
       "\n",
       "    .dataframe tbody tr th {\n",
       "        vertical-align: top;\n",
       "    }\n",
       "\n",
       "    .dataframe thead th {\n",
       "        text-align: right;\n",
       "    }\n",
       "</style>\n",
       "<table border=\"1\" class=\"dataframe\">\n",
       "  <thead>\n",
       "    <tr style=\"text-align: right;\">\n",
       "      <th></th>\n",
       "      <th>LI</th>\n",
       "      <th>LS</th>\n",
       "      <th>class</th>\n",
       "    </tr>\n",
       "  </thead>\n",
       "  <tbody>\n",
       "    <tr>\n",
       "      <th>0</th>\n",
       "      <td>3.3097</td>\n",
       "      <td>3.5263</td>\n",
       "      <td>Iris-Setosa</td>\n",
       "    </tr>\n",
       "    <tr>\n",
       "      <th>1</th>\n",
       "      <td>2.6808</td>\n",
       "      <td>2.8592</td>\n",
       "      <td>Iris-Versicolour</td>\n",
       "    </tr>\n",
       "    <tr>\n",
       "      <th>2</th>\n",
       "      <td>2.8823</td>\n",
       "      <td>3.0657</td>\n",
       "      <td>Iris-Virginica</td>\n",
       "    </tr>\n",
       "  </tbody>\n",
       "</table>\n",
       "</div>"
      ],
      "text/plain": [
       "       LI      LS             class\n",
       "0  3.3097  3.5263       Iris-Setosa\n",
       "1  2.6808  2.8592  Iris-Versicolour\n",
       "2  2.8823  3.0657    Iris-Virginica"
      ]
     },
     "execution_count": 151,
     "metadata": {},
     "output_type": "execute_result"
    }
   ],
   "source": [
    "setosa = IC_mean(iris['sepal width (cm)'][iris['class'] == 'Iris-Setosa'])\n",
    "versicolor = IC_mean(iris['sepal width (cm)'][iris['class'] == 'Iris-Versicolour'])\n",
    "virginica = IC_mean(iris['sepal width (cm)'][iris['class'] == 'Iris-Virginica'])\n",
    "\n",
    "intervalos = pd.DataFrame([setosa, versicolor, virginica])\n",
    "clase = pd.DataFrame(['Iris-Setosa', 'Iris-Versicolour', 'Iris-Virginica'])\n",
    "\n",
    "ic_media = pd.concat([intervalos, clase], axis=1)\n",
    "ic_media.columns = ['LI', 'LS', 'class']\n",
    "ic_media"
   ]
  },
  {
   "cell_type": "code",
   "execution_count": 170,
   "metadata": {},
   "outputs": [
    {
     "data": {
      "image/png": "[encoded data removed]",
      "text/plain": [
       "<Figure size 432x288 with 1 Axes>"
      ]
     },
     "metadata": {
      "needs_background": "light"
     },
     "output_type": "display_data"
    }
   ],
   "source": [
    "IC_plot(ic_media)"
   ]
  },
  {
   "cell_type": "markdown",
   "metadata": {},
   "source": [
    "### Ningún intervalo se intersecta, por lo tanto, los tres grupos tienen medias distintas\n",
    "Iris-Setosa tiene la media del ancho del sépalo más alta, mientas que Iris-Versicolor tiene la media más baja"
   ]
  }
 ],
 "metadata": {
  "kernelspec": {
   "display_name": "Python 3",
   "language": "python",
   "name": "python3"
  },
  "language_info": {
   "codemirror_mode": {
    "name": "ipython",
    "version": 3
   },
   "file_extension": ".py",
   "mimetype": "text/x-python",
   "name": "python",
   "nbconvert_exporter": "python",
   "pygments_lexer": "ipython3",
   "version": "3.7.0"
  }
 },
 "nbformat": 4,
 "nbformat_minor": 2
}
